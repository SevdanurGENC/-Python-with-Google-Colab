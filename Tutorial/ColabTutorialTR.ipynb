{
  "nbformat": 4,
  "nbformat_minor": 0,
  "metadata": {
    "colab": {
      "name": "ColabTutorial.ipynb",
      "provenance": [],
      "collapsed_sections": []
    },
    "kernelspec": {
      "name": "python3",
      "display_name": "Python 3"
    },
    "accelerator": "GPU"
  },
  "cells": [
    {
      "cell_type": "markdown",
      "metadata": {
        "id": "054sbUkob2c3",
        "colab_type": "text"
      },
      "source": [
        "# Google Colab Nasıl Kullanılır?"
      ]
    },
    {
      "cell_type": "markdown",
      "metadata": {
        "id": "pmECBCuVdu8N",
        "colab_type": "text"
      },
      "source": [
        "## Google Colab Nedir\n",
        "\n",
        "Google Colab, etkileşimli kodlama için web tabanlı bir iPython Notebook hizmetidir. Google Colab **Nvidia K80 GPU'ya ücretsiz erişim** ve hızlı prototipleme ve görselleştirme için popüler bir araç haline geliyor. Colab'ı öğrenmesi kolaydır ve interaktif kodlama için başka bir popüler araç olan Jupyter Notebook'a çok benzer.\n"
      ]
    },
    {
      "cell_type": "markdown",
      "metadata": {
        "id": "ES75IrSxB3Fk",
        "colab_type": "text"
      },
      "source": [
        "# Colab ile İlgili Temel Bilgiler"
      ]
    },
    {
      "cell_type": "markdown",
      "metadata": {
        "id": "TU6draQQrq5M",
        "colab_type": "text"
      },
      "source": [
        "Bu dosyayı salt okunur olarak görüntülüyorsanız (yani paylaşılan bağlantıyı kullanarak), başlığın hemen altındaki **OPEN IN PLAYGROUND** seçeneğini tıklayın.\n",
        "\n",
        "Oyun alanı modu, bilgisayara kaydetmeyen geçici bir oturumda salt okunur not defterinin bir kopyasını açar.\n",
        "\n",
        "Herhangi bir değişikliği kaydetmek istiyorsanız, not defterini kaydetmelisiniz (bu aşağıda açıklanmıştır).\n",
        "\n",
        "![alt text](https://drive.google.com/uc?export=view&id=1_6dbuuxK9m2p0SfS3nrR6dCd6E9BKfaB)"
      ]
    },
    {
      "cell_type": "markdown",
      "metadata": {
        "id": "48jvUKSArw0k",
        "colab_type": "text"
      },
      "source": [
        "Bir Colab dosyası, bağımsız olarak çalıştırılabilen kod blokları olan hücrelerden oluşur. Hücreler, sol üst taraftaki **+** düğmelerini tıklayarak eklenebilir.\n",
        "\n",
        "Üzerine tıklayarak bir hücre seçebilirsiniz. Aşağıda bir kod hücresi örneği verilmiştir."
      ]
    },
    {
      "cell_type": "code",
      "metadata": {
        "id": "WWf-TXIEEDVv",
        "colab_type": "code",
        "colab": {}
      },
      "source": [
        "print(\"Bu bir 'kod' hücresidir.\")\n",
        "\n",
        "a = 4\n",
        "print(\"a: %d\" % a)"
      ],
      "execution_count": null,
      "outputs": []
    },
    {
      "cell_type": "markdown",
      "metadata": {
        "id": "81E69UM6Mgxb",
        "colab_type": "text"
      },
      "source": [
        "## Hücreleri Çalıştırma ve Organize Etme\n",
        "\n",
        "Bir hücreyi veya hücre grubunu çalıştırmak için birkaç seçenek vardır. Bu seçenekler, başlığın **Çalışma Zamanı (Runtime)** menüsünde listelenir.\n",
        "\n",
        "Alternatif olarak, sol taraftaki 'Run' düğmesiyle tek bir hücre yürütülebilir.\n",
        "\n",
        "![alt text](https://drive.google.com/uc?export=view&id=1Eaw-1kEgthETTDlNL3E2mDrGAEJV2a0E)\n",
        "\n",
        "\n",
        "Yukarıdaki örnek kod hücresini çalıştırmayı deneyin. Ardından, aşağıdaki kod hücresini çalıştırın."
      ]
    },
    {
      "cell_type": "code",
      "metadata": {
        "id": "pNCJOXTum_bm",
        "colab_type": "code",
        "colab": {}
      },
      "source": [
        "b = 5 * a\n",
        "print(\"a: %d\" % b)\n",
        "print(\"b: %d\" % b)"
      ],
      "execution_count": null,
      "outputs": []
    },
    {
      "cell_type": "markdown",
      "metadata": {
        "id": "32do8DDcnhqs",
        "colab_type": "text"
      },
      "source": [
        "Her bir hücrenin bağımsız olarak çalıştırılabileceğini ve bir değişiklik olması durumunda, yalnızca bu değişiklikle ilgili hücrelerin yeniden çalıştırılması gerektiğini unutmayın.\n",
        "\n",
        "Bu nedenle, her şeyi tek bir hücreye yazmak yerine kodunuzu hücre bloklarına ayırmak önemlidir. Bu modüler yaklaşım, kodun bazı bölümlerini her şeyi yeniden çalıştırmadan değiştirmeyi kolaylaştırır."
      ]
    },
    {
      "cell_type": "markdown",
      "metadata": {
        "id": "Vwc8IPD7QMNI",
        "colab_type": "text"
      },
      "source": [
        "## Colab dosyasını kaydetme ve dışa aktarma"
      ]
    },
    {
      "cell_type": "markdown",
      "metadata": {
        "id": "VGJ8HgMhE61D",
        "colab_type": "text"
      },
      "source": [
        "Yukarıda belirtildiği gibi, Playground yalnızca geçici oturum sağlar, bu nedenle değişiklikleri kaydetmek için not defteri dosyalarının kaydedilmesi gerekir.\n",
        "\n",
        "Colab not defterini kaydetmenin en kolay yolu, Google Drive'ınıza kaydetmektir. **File > Save a copy in Drive (Dosya> Bir kopyasını Drive'a kaydet)**'i tıklayın. Bu öğreticinin bir kopyasını kaydettikten sonra, Google Drive veya Colab kontrol panelinizden açabilirsiniz.\n",
        "\n",
        "![alt text](https://drive.google.com/uc?export=view&id=1y_LaRF0wsE71QMzlYW4nrqRxXsW_MLcJ)\n",
        "\n",
        "![alt text](https://drive.google.com/uc?export=view&id=1Tfy9LqrwdhhDBI8RQMkCe5RnzZPf6F2o)\n",
        "\n",
        "Google Drive'ınızda bu kurs için bir klasör (örn. ColabTutorialTR) oluşturmayı deneyin ve dağınıklığı azaltmak için tüm Colab dosyalarını buraya kaydedin."
      ]
    },
    {
      "cell_type": "markdown",
      "metadata": {
        "id": "fRI4jVyo_-zI",
        "colab_type": "text"
      },
      "source": [
        "Colab, **File > Download .ipynb** veya **File > Download .py** ile bir notebook dosyası veya Python dosyası olarak dışa aktarılabilir.\n",
        "\n",
        "Dışa aktarılan not defteri dosyaları Google Colab'a yeniden yüklenebilir veya Jupyter Not Defteri'nde kullanılabilir."
      ]
    },
    {
      "cell_type": "markdown",
      "metadata": {
        "id": "DByG4RzaAZtP",
        "colab_type": "text"
      },
      "source": [
        "Colab dosyasını PDF olarak kaydetmek için **File > Print** ve ardından PDF olarak kaydedin.\n",
        "\n",
        "Örneğin, Google Chrome'da **Open PDF in Previe (PDF'yi Önizlemede Aç)**'ı tıklayın.\n",
        "\n",
        "![alt text](https://drive.google.com/uc?export=view&id=1O_ZZJMizjJ_GQPnm92X_kP55mvqIKaVo)"
      ]
    },
    {
      "cell_type": "markdown",
      "metadata": {
        "id": "hisAbf-8Iz_J",
        "colab_type": "text"
      },
      "source": [
        "Colab'ı paylaşılabilir bağlantı kullanarak paylaşabilirsiniz. Sağ üst köşedeki **Share (Paylaş)**' düğmesini ve **Get sharable link (Paylaşılabilir bağlantı al)**ı tıklayın.\n",
        "\n",
        "![alt text](https://drive.google.com/uc?export=view&id=1S_ov5nWwImBWubdAb6J-Ns2UFe0zva_X)"
      ]
    },
    {
      "cell_type": "markdown",
      "metadata": {
        "id": "i5Sxrqw7IF-5",
        "colab_type": "text"
      },
      "source": [
        "# Bash Komutlarını Çalıştırma ve Paketleri Yükleme\n",
        "\n",
        "## Bash Komutları\n",
        "\n",
        "Bash komutları, komutun önüne '' **!** '' eklenerek çalıştırılabilir.\n",
        "\n",
        "Örneğin, aşağıdaki 'pwd' komutu geçerli çalışma dizinine giden yolu yazdırır."
      ]
    },
    {
      "cell_type": "code",
      "metadata": {
        "id": "vMJkei4GI9kW",
        "colab_type": "code",
        "colab": {}
      },
      "source": [
        "!pwd"
      ],
      "execution_count": null,
      "outputs": []
    },
    {
      "cell_type": "markdown",
      "metadata": {
        "id": "UY7u68dsvPjh",
        "colab_type": "text"
      },
      "source": [
        "'ls' komutu geçerli dizindeki içerik listesini yazdırır."
      ]
    },
    {
      "cell_type": "code",
      "metadata": {
        "id": "FQL7Bqp_vdDO",
        "colab_type": "code",
        "colab": {}
      },
      "source": [
        "!ls"
      ],
      "execution_count": null,
      "outputs": []
    },
    {
      "cell_type": "markdown",
      "metadata": {
        "id": "Y_uVFPv7JjVH",
        "colab_type": "text"
      },
      "source": [
        "Bash komutu paketleri yüklemek veya dosyaları indirmek için kullanılabilir (örn. Veri kümeleri)."
      ]
    },
    {
      "cell_type": "markdown",
      "metadata": {
        "id": "AIV4udfDLwHd",
        "colab_type": "text"
      },
      "source": [
        "## Paketleri Yükleme\n",
        "\n",
        "En yaygın kitaplıklar (PyTorch dahil) Colab'a zaten yüklenmiştir.\n",
        "\n",
        "Python paketlerini kurmak için şunu kullanın:"
      ]
    },
    {
      "cell_type": "code",
      "metadata": {
        "id": "MCAfZtdKLWie",
        "colab_type": "code",
        "colab": {}
      },
      "source": [
        "!pip install [package name]"
      ],
      "execution_count": null,
      "outputs": []
    },
    {
      "cell_type": "markdown",
      "metadata": {
        "id": "2dTwYO5dLaBs",
        "colab_type": "text"
      },
      "source": [
        "Advanced Package Tool : Gelişmiş Paket Aracı (apt) aracılığıyla kullanılabilen diğer paketleri yüklemek için\n"
      ]
    },
    {
      "cell_type": "code",
      "metadata": {
        "id": "UTRJlO55LdKf",
        "colab_type": "code",
        "colab": {}
      },
      "source": [
        "!apt-get install [package name]"
      ],
      "execution_count": null,
      "outputs": []
    },
    {
      "cell_type": "markdown",
      "metadata": {
        "id": "DNVYbPlnEmZz",
        "colab_type": "text"
      },
      "source": [
        "# Google Drive'ı kullanma\n",
        "\n",
        "Yukarıda belirtildiği gibi Google Drive, Colab notebook dosyalarını kaydetmek için kullanılabilir. Ancak bu, Colab oturumunuzun Google Drive'ınıza erişeceği anlamına gelmez. Bazen Colab oturumundan dosya yüklemek veya kaydetmek isteyebilirsiniz ve bunu yapmak için önce Google Drive'ı bağlamanız gerekir.\n",
        "\n",
        "Google Drive'ı bağlamadan önce, `/content` dizininde `gdrive` dizini bulunmaz;"
      ]
    },
    {
      "cell_type": "code",
      "metadata": {
        "id": "QxN9GI2iG0VQ",
        "colab_type": "code",
        "colab": {}
      },
      "source": [
        "!ls /content"
      ],
      "execution_count": null,
      "outputs": []
    },
    {
      "cell_type": "markdown",
      "metadata": {
        "id": "Co70w2WwG4_Q",
        "colab_type": "text"
      },
      "source": [
        "Google Drive'ı bağlamak için aşağıdaki kodu çalıştırın ve yetkilendirme kodunu almak için bağlantıya gidin. Yetkilendirme kodunu, kodu çalıştırarak oluşturulan kutuya yapıştırın ve enter tuşuna basın."
      ]
    },
    {
      "cell_type": "code",
      "metadata": {
        "id": "CXnyoIOFGCYk",
        "colab_type": "code",
        "colab": {}
      },
      "source": [
        "from google.colab import drive\n",
        "\n",
        "drive.mount('/content/gdrive')"
      ],
      "execution_count": null,
      "outputs": []
    },
    {
      "cell_type": "markdown",
      "metadata": {
        "id": "X7e_EBGeHv5b",
        "colab_type": "text"
      },
      "source": [
        "Başarıyla bağlandıktan sonra, tüm Google Drive dosyalarınıza `/content/gdrive/My\\ Drive/` altından erişilebilir olmalıdır."
      ]
    },
    {
      "cell_type": "code",
      "metadata": {
        "id": "tFyK89OEGkOc",
        "colab_type": "code",
        "colab": {}
      },
      "source": [
        "!ls /content/gdrive/My\\ Drive"
      ],
      "execution_count": null,
      "outputs": []
    },
    {
      "cell_type": "markdown",
      "metadata": {
        "id": "i3F5Xe8GICzu",
        "colab_type": "text"
      },
      "source": [
        "Google Drive'ı bağladıktan sonra, veri kümesini Google Drive'a indirip Colab oturumunda kullanabilir veya oturumun çıktılarını Google Drive'ınıza kaydedebilirsiniz."
      ]
    },
    {
      "cell_type": "markdown",
      "metadata": {
        "id": "_F2NZuHRE99n",
        "colab_type": "text"
      },
      "source": [
        "# Donanım Hızlandırıcısını Kullanma\n",
        "\n",
        "GPU (veya TPU) kullanmak için**Runtime > Change runtime type** seçeneğine gidin ve **Hardware accelerator** altında **GPU** veya **TPU** seçeneğini belirleyin.\n",
        "\n",
        "![Runtime typet](https://cdn-images-1.medium.com/max/1600/1*WNovJnpGMOys8Rv7YIsZzA.png)\n",
        "\n",
        "GPU'yu etkinleştirdikten sonra, aşağıdaki ifade **print true** olmalıdır."
      ]
    },
    {
      "cell_type": "code",
      "metadata": {
        "id": "ZpeWhDXCGZn_",
        "colab_type": "code",
        "colab": {}
      },
      "source": [
        "import torch\n",
        "\n",
        "torch.cuda.is_available()"
      ],
      "execution_count": null,
      "outputs": []
    }
  ]
}